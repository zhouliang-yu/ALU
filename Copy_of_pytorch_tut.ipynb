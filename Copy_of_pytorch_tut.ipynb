{
  "nbformat": 4,
  "nbformat_minor": 0,
  "metadata": {
    "colab": {
      "name": "Copy of pytorch_tut.ipynb",
      "provenance": [],
      "authorship_tag": "ABX9TyPJCIuIZDT9mL54FkB0EaGq",
      "include_colab_link": true
    },
    "kernelspec": {
      "name": "python3",
      "display_name": "Python 3"
    },
    "language_info": {
      "name": "python"
    }
  },
  "cells": [
    {
      "cell_type": "markdown",
      "metadata": {
        "id": "view-in-github",
        "colab_type": "text"
      },
      "source": [
        "<a href=\"https://colab.research.google.com/github/zhouliang-yu/ALU/blob/main/Copy_of_pytorch_tut.ipynb\" target=\"_parent\"><img src=\"https://colab.research.google.com/assets/colab-badge.svg\" alt=\"Open In Colab\"/></a>"
      ]
    },
    {
      "cell_type": "code",
      "source": [
        "from google.colab import drive\n",
        "drive.mount('/content/drive')"
      ],
      "metadata": {
        "colab": {
          "base_uri": "https://localhost:8080/"
        },
        "id": "lFX_oyYz6YhA",
        "outputId": "ffbaa89e-45fa-4786-ee97-98a3f9bba7af"
      },
      "execution_count": 1,
      "outputs": [
        {
          "output_type": "stream",
          "name": "stdout",
          "text": [
            "Mounted at /content/drive\n"
          ]
        }
      ]
    },
    {
      "cell_type": "code",
      "source": [
        "import torch\n",
        "from torch import nn\n",
        "from torch.utils.data import DataLoader\n",
        "from torchvision import datasets\n",
        "from torchvision.transforms import ToTensor"
      ],
      "metadata": {
        "id": "z8KTw4Fs6xpQ"
      },
      "execution_count": 7,
      "outputs": []
    },
    {
      "cell_type": "code",
      "source": [
        "#download training data from open datasets\n",
        "training_data = datasets.FashionMNIST(\n",
        "    root = \"data\",\n",
        "    train = True,\n",
        "    download = True,\n",
        "    transform= ToTensor(),\n",
        ")\n",
        "\n",
        "#download testing data from open datasets\n",
        "test_data = datasets.FashionMNIST(\n",
        "    root = \"data\",\n",
        "    train = False,\n",
        "    download = True,\n",
        "    transform= ToTensor(),\n",
        ")\n",
        "\n"
      ],
      "metadata": {
        "id": "GrGPciX17NPB"
      },
      "execution_count": 9,
      "outputs": []
    },
    {
      "cell_type": "code",
      "source": [
        "batch_size = 64\n",
        "\n",
        "#create data loader\n",
        "train_dataLoader = DataLoader(training_data, batch_size = batch_size)\n",
        "test_dataLoader = DataLoader(test_data, batch_size = batch_size)\n",
        "\n",
        "for X, y in test_dataLoader:\n",
        "  print(f\"shape of X [N, C, H, W]: {X.shape}\")\n",
        "  print(f\"shape of y:{y.shape} {y.dtype}\")\n",
        "  break"
      ],
      "metadata": {
        "colab": {
          "base_uri": "https://localhost:8080/"
        },
        "id": "HWDZtEe9728b",
        "outputId": "a838a897-58fe-4fa5-9ca1-9403f83a93bb"
      },
      "execution_count": 10,
      "outputs": [
        {
          "output_type": "stream",
          "name": "stdout",
          "text": [
            "shape of X [N, C, H, W]: torch.Size([64, 1, 28, 28])\n",
            "shape of y:torch.Size([64]) torch.int64\n"
          ]
        }
      ]
    },
    {
      "cell_type": "markdown",
      "source": [
        "## **Creating Models**\n"
      ],
      "metadata": {
        "id": "28u9o0Wq9Tn8"
      }
    }
  ]
}